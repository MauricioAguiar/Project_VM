{
 "cells": [
  {
   "cell_type": "code",
   "execution_count": null,
   "id": "549ea8b2",
   "metadata": {},
   "outputs": [],
   "source": [
    "import pandas as pd\n",
    "from IPython.display import display"
   ]
  },
  {
   "cell_type": "markdown",
   "id": "ff1f1eea",
   "metadata": {},
   "source": [
    "# Filtragem de dados\n",
    "### Carregamento de dados "
   ]
  },
  {
   "cell_type": "code",
   "execution_count": null,
   "id": "ccc84071",
   "metadata": {},
   "outputs": [],
   "source": [
    "# Carregar o dataset\n",
    "df = pd.read_csv(\"tabela analise.csv\")"
   ]
  },
  {
   "cell_type": "code",
   "execution_count": null,
   "id": "593f81b3",
   "metadata": {},
   "outputs": [],
   "source": [
    "# Carregar o dataset do notion\n",
    "df_notion = pd.read_csv(\"tabela_analise_notion.csv\")"
   ]
  },
  {
   "cell_type": "markdown",
   "id": "11c1021a",
   "metadata": {},
   "source": [
    "## Remoção de linhas não utilizáveis"
   ]
  },
  {
   "cell_type": "code",
   "execution_count": null,
   "id": "72872eff",
   "metadata": {},
   "outputs": [],
   "source": [
    "# Remoção das linhas não utilizadas\n",
    "df = df[df[\"Meio\"] != \"CASH OUT\"]\n",
    "\n",
    "# Resetar o índice após a remoção\n",
    "df = df.reset_index(drop=True)"
   ]
  },
  {
   "cell_type": "code",
   "execution_count": null,
   "id": "ea9bdf02",
   "metadata": {},
   "outputs": [],
   "source": [
    "# Remoção das linhas não utilizadas\n",
    "df = df[~((df[\"Tokens\"] >= 500) & (df[\"Meio\"] == \"Gift\"))]"
   ]
  },
  {
   "cell_type": "code",
   "execution_count": null,
   "id": "9317c631",
   "metadata": {},
   "outputs": [],
   "source": [
    "df_notion = df_notion.drop(columns=[\"Entradas\", \"Obs:\", \"Mês\", \"Ano\",\"Dia\"])"
   ]
  },
  {
   "cell_type": "code",
   "execution_count": null,
   "id": "52eab3cc",
   "metadata": {},
   "outputs": [],
   "source": [
    "df_notion[\"Data\"] = pd.to_datetime(df_notion[\"Data\"], format=\"%d/%m/%Y\")  # Garante o formato correto\n",
    "df_notion = df_notion[df_notion[\"Data\"].dt.year != 2025]  # Mantém apenas anos diferentes de 2025\n"
   ]
  },
  {
   "cell_type": "markdown",
   "id": "99b1520f",
   "metadata": {},
   "source": [
    "## Conversão de dados para valores numéricos e de data"
   ]
  },
  {
   "cell_type": "code",
   "execution_count": null,
   "id": "5a7f4a4d",
   "metadata": {},
   "outputs": [],
   "source": [
    "# Converte a linha de Tokens de string para numeric\n",
    "df[\"Tokens\"] = pd.to_numeric(df[\"Tokens\"], errors=\"coerce\")  # Converte para número, ignorando erros"
   ]
  },
  {
   "cell_type": "code",
   "execution_count": null,
   "id": "a63174e3",
   "metadata": {},
   "outputs": [],
   "source": [
    "df[\"Data e hora\"] = pd.to_datetime(df[\"Data e hora\"], format=\"%m/%d/%Y %H:%M:%S\")\n",
    "\n",
    "# Separando a data e a hora\n",
    "df[\"data\"] = df[\"Data e hora\"].dt.strftime(\"%d/%m/%Y\")  # Converte para DD/MM/YYYY\n",
    "df[\"hora\"] = df[\"Data e hora\"].dt.strftime(\"%H:%M:%S\")  # Apenas a hora\n",
    "\n",
    "# Removendo a coluna original\n",
    "df = df.drop(columns=[\"Data e hora\"])\n"
   ]
  },
  {
   "cell_type": "code",
   "execution_count": null,
   "id": "350fd1c3",
   "metadata": {},
   "outputs": [],
   "source": [
    "df_notion[\"Data\"] = pd.to_datetime(df_notion[\"Data\"], format=\"%m/%d/%Y %H:%M:%S\")\n",
    "\n",
    "# Separando a data\n",
    "df_notion[\"Data\"] = df_notion[\"Data\"].dt.strftime(\"%d/%m/%Y\")  # Converte para DD/MM/YYYY excluindo informações de horário\n"
   ]
  },
  {
   "cell_type": "code",
   "execution_count": null,
   "id": "d4e74b82",
   "metadata": {},
   "outputs": [],
   "source": [
    "#checando resultados\n",
    "display (df.head(10))"
   ]
  },
  {
   "cell_type": "markdown",
   "id": "7753b209",
   "metadata": {},
   "source": [
    "## Padronização de valores com uma formatação mais clara"
   ]
  },
  {
   "cell_type": "code",
   "execution_count": null,
   "id": "772b8620",
   "metadata": {},
   "outputs": [],
   "source": [
    "#visualização de valores únicos para a padronização\n",
    "df_viz = pd.read_excel(\"dados_formatados.xlsx\")"
   ]
  },
  {
   "cell_type": "code",
   "execution_count": null,
   "id": "3a27cba6",
   "metadata": {},
   "outputs": [],
   "source": [
    "valores_unicos = df_viz[\"Meio\"].unique()\n",
    "\n",
    "print(valores_unicos)\n",
    "\n",
    "print(f\"Valores Unicos totais: {valores_unicos.size}\")"
   ]
  },
  {
   "cell_type": "code",
   "execution_count": null,
   "id": "661f3a87",
   "metadata": {},
   "outputs": [],
   "source": [
    "df_viz[\"Meio\"] = df_viz[\"Meio\"].apply(lambda x: \"Tip menu\" if any(c in x for c in ['request']) else x)"
   ]
  },
  {
   "cell_type": "code",
   "execution_count": null,
   "id": "7b5fc4ee",
   "metadata": {},
   "outputs": [],
   "source": [
    "# Reordenando as colunas para que \"data\" seja a primeira e \"hora\" a segunda\n",
    "colunas_ordenadas = [\"data\", \"hora\"] + [col for col in df.columns if col not in [\"data\", \"hora\"]]\n",
    "df = df[colunas_ordenadas]"
   ]
  },
  {
   "cell_type": "code",
   "execution_count": null,
   "id": "9e86df8c",
   "metadata": {},
   "outputs": [],
   "source": [
    "df = df.sort_values(by=\"data\", ascending=True)"
   ]
  },
  {
   "cell_type": "code",
   "execution_count": null,
   "id": "bdf2969b",
   "metadata": {},
   "outputs": [],
   "source": [
    "df_viz.to_excel(\"dados_formatados.xlsx\", index=False)"
   ]
  },
  {
   "cell_type": "code",
   "execution_count": null,
   "id": "b22d0db7",
   "metadata": {},
   "outputs": [],
   "source": [
    "colunas_ordenadas = [\"Data\"] + [col for col in df_notion.columns if col not in [\"Data\"]]\n",
    "df_notion = df_notion[colunas_ordenadas]"
   ]
  },
  {
   "cell_type": "code",
   "execution_count": null,
   "id": "80e2ed8e",
   "metadata": {},
   "outputs": [],
   "source": [
    "#checando resultados\n",
    "display(df_notion.head(10))"
   ]
  },
  {
   "cell_type": "code",
   "execution_count": null,
   "id": "0c0b21d2",
   "metadata": {},
   "outputs": [],
   "source": [
    "df_notion[\"Horas trabalhadas\"] = df_notion[\"Horas\"]\n",
    "\n",
    "# Removendo a coluna original\n",
    "df_notion = df_notion.drop(columns=[\"Horas\"])\n",
    "\n",
    "#Adicionando uma nova coluna para tratamento posterior\n",
    "df_notion[\"Horas trabalhadas by number\"] = df_notion[\"Horas trabalhadas\"]"
   ]
  },
  {
   "cell_type": "code",
   "execution_count": null,
   "id": "378e142b",
   "metadata": {},
   "outputs": [],
   "source": [
    "#visualização de valores únicos para a padronização\n",
    "valores_unicos = df_notion[\"Minutos_trabalhados\"].unique()\n",
    "\n",
    "display (valores_unicos)\n",
    "\n",
    "display (f\"Valores Unicos totais: {valores_unicos.size}\")"
   ]
  },
  {
   "cell_type": "code",
   "execution_count": null,
   "id": "491952b0",
   "metadata": {},
   "outputs": [],
   "source": [
    "renomear = {\n",
    "    'Não trabalhei': '0',\n",
    "    'Folga        ': '0',\n",
    "    '2hrs'         : '120',\n",
    "    '3hrs'         : '180',\n",
    "    '4hrs'         : '240',\n",
    "    '5hrs'         : '300',\n",
    "    '6hrs'         : '360',\n",
    "    '7hrs'         : '420',\n",
    "    '8hrs'         : '480',\n",
    "    '1hr, 30min'   : '90',\n",
    "    '2hrs, 30min'  : '150',\n",
    "    '30min, 3hrs'  : '210',\n",
    "    '30min, 4hrs'  : '270',\n",
    "    '30min, 5hrs'  : '330',\n",
    "    '30min, 6hrs'  : '390',\n",
    "    '30min, 7hrs'  : '450',\n",
    "}\n",
    "\n",
    "\n",
    "df_notion[\"Horas trabalhadas by number\"] = df_notion[\"Horas trabalhadas by number\"].replace(renomear)\n",
    "\n",
    "#df_notion[\"Horas trabalhadas by number\"] = df_notion[\"Horas trabalhadas by number\"].apply(lambda x: \"0\" if any(c in x for c in [\"Não trabalhei\", \"Folga\"]) else x)"
   ]
  },
  {
   "cell_type": "code",
   "execution_count": null,
   "id": "91619156",
   "metadata": {},
   "outputs": [],
   "source": [
    "df_notion = df_notion.dropna(subset=[\"Horas trabalhadas by number\"])"
   ]
  },
  {
   "cell_type": "code",
   "execution_count": null,
   "id": "1fe22827",
   "metadata": {},
   "outputs": [],
   "source": [
    "df_notion[\"Horas trabalhadas by number\"] = pd.to_numeric(df_notion[\"Horas trabalhadas by number\"], errors=\"coerce\")"
   ]
  },
  {
   "cell_type": "code",
   "execution_count": null,
   "id": "8d9d0895",
   "metadata": {},
   "outputs": [],
   "source": [
    "df_notion[\"Minutos_trabalhados\"] = df_notion[\"Horas trabalhadas by number\"]\n",
    "\n",
    "# Removendo a coluna original\n",
    "df_notion = df_notion.drop(columns=[\"Horas trabalhadas by number\"])"
   ]
  },
  {
   "cell_type": "code",
   "execution_count": null,
   "id": "9fe232d3",
   "metadata": {},
   "outputs": [],
   "source": [
    "df[\"hora\"] = pd.to_datetime(df[\"hora\"], format=\"%H:%M:%S\").dt.hour\n",
    "\n",
    "# Criando os intervalos e os rótulos\n",
    "bins = [0, 6, 12, 18, 24]  # Intervalos de horas\n",
    "labels = [\"Madrugada\", \"Manhã\", \"Tarde\", \"Noite\"]  # Rótulos\n",
    "\n",
    "# Aplicando a categorização de forma vetorizada\n",
    "df[\"Periodo\"] = pd.cut(df[\"hora\"], bins=bins, labels=labels, right=False)"
   ]
  },
  {
   "cell_type": "markdown",
   "id": "10170e85",
   "metadata": {},
   "source": [
    "## Lançamento de dados em outro DB"
   ]
  },
  {
   "cell_type": "code",
   "execution_count": null,
   "id": "4f2d0826",
   "metadata": {},
   "outputs": [],
   "source": [
    "df.to_excel(\"dados_formatados.xlsx\", index=False)"
   ]
  },
  {
   "cell_type": "code",
   "execution_count": null,
   "id": "e03fbb1f",
   "metadata": {},
   "outputs": [],
   "source": [
    "df_notion.to_excel(\"dados_formatados_notion.xlsx\", index=False)"
   ]
  }
 ],
 "metadata": {
  "kernelspec": {
   "display_name": "Python 3 (ipykernel)",
   "language": "python",
   "name": "python3"
  },
  "language_info": {
   "codemirror_mode": {
    "name": "ipython",
    "version": 3
   },
   "file_extension": ".py",
   "mimetype": "text/x-python",
   "name": "python",
   "nbconvert_exporter": "python",
   "pygments_lexer": "ipython3",
   "version": "3.9.13"
  }
 },
 "nbformat": 4,
 "nbformat_minor": 5
}
